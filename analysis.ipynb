{
 "metadata": {
  "language_info": {
   "codemirror_mode": {
    "name": "ipython",
    "version": 3
   },
   "file_extension": ".py",
   "mimetype": "text/x-python",
   "name": "python",
   "nbconvert_exporter": "python",
   "pygments_lexer": "ipython3",
   "version": "3.8.0-final"
  },
  "orig_nbformat": 2,
  "kernelspec": {
   "name": "python38664bitdbd310017c3c40d2a244d668ebace21c",
   "display_name": "Python 3.8.6 64-bit"
  }
 },
 "nbformat": 4,
 "nbformat_minor": 2,
 "cells": [
  {
   "cell_type": "code",
   "execution_count": 1,
   "metadata": {},
   "outputs": [],
   "source": [
    "import pandas as pd\n",
    "import matplotlib.pyplot as plt"
   ]
  },
  {
   "cell_type": "code",
   "execution_count": 2,
   "metadata": {},
   "outputs": [],
   "source": [
    "data = pd.read_csv ('../data/movies_metadata.csv')"
   ]
  },
  {
   "cell_type": "code",
   "execution_count": 3,
   "metadata": {},
   "outputs": [
    {
     "output_type": "stream",
     "name": "stdout",
     "text": [
      "<class 'pandas.core.frame.DataFrame'>\nRangeIndex: 45466 entries, 0 to 45465\nData columns (total 24 columns):\n #   Column                 Non-Null Count  Dtype  \n---  ------                 --------------  -----  \n 0   adult                  45466 non-null  object \n 1   belongs_to_collection  4494 non-null   object \n 2   budget                 45466 non-null  object \n 3   genres                 45466 non-null  object \n 4   homepage               7782 non-null   object \n 5   id                     45466 non-null  object \n 6   imdb_id                45449 non-null  object \n 7   original_language      45455 non-null  object \n 8   original_title         45466 non-null  object \n 9   overview               44512 non-null  object \n 10  popularity             45461 non-null  object \n 11  poster_path            45080 non-null  object \n 12  production_companies   45463 non-null  object \n 13  production_countries   45463 non-null  object \n 14  release_date           45379 non-null  object \n 15  revenue                45460 non-null  float64\n 16  runtime                45203 non-null  float64\n 17  spoken_languages       45460 non-null  object \n 18  status                 45379 non-null  object \n 19  tagline                20412 non-null  object \n 20  title                  45460 non-null  object \n 21  video                  45460 non-null  object \n 22  vote_average           45460 non-null  float64\n 23  vote_count             45460 non-null  float64\ndtypes: float64(4), object(20)\nmemory usage: 8.3+ MB\n"
     ]
    }
   ],
   "source": [
    "data.info()"
   ]
  },
  {
   "cell_type": "code",
   "execution_count": 4,
   "metadata": {},
   "outputs": [],
   "source": [
    "import numpy as np"
   ]
  },
  {
   "cell_type": "code",
   "execution_count": 5,
   "metadata": {},
   "outputs": [],
   "source": [
    "data[['budget', 'revenue']] = data.loc[:, ['budget', 'revenue']].replace (0, np.nan)"
   ]
  },
  {
   "cell_type": "code",
   "execution_count": 6,
   "metadata": {},
   "outputs": [
    {
     "output_type": "execute_result",
     "data": {
      "text/plain": [
       "         budget      revenue\n",
       "0      30000000  373554033.0\n",
       "1      65000000  262797249.0\n",
       "2             0          NaN\n",
       "3      16000000   81452156.0\n",
       "4             0   76578911.0\n",
       "...         ...          ...\n",
       "45461         0          NaN\n",
       "45462         0          NaN\n",
       "45463         0          NaN\n",
       "45464         0          NaN\n",
       "45465         0          NaN\n",
       "\n",
       "[45466 rows x 2 columns]"
      ],
      "text/html": "<div>\n<style scoped>\n    .dataframe tbody tr th:only-of-type {\n        vertical-align: middle;\n    }\n\n    .dataframe tbody tr th {\n        vertical-align: top;\n    }\n\n    .dataframe thead th {\n        text-align: right;\n    }\n</style>\n<table border=\"1\" class=\"dataframe\">\n  <thead>\n    <tr style=\"text-align: right;\">\n      <th></th>\n      <th>budget</th>\n      <th>revenue</th>\n    </tr>\n  </thead>\n  <tbody>\n    <tr>\n      <th>0</th>\n      <td>30000000</td>\n      <td>373554033.0</td>\n    </tr>\n    <tr>\n      <th>1</th>\n      <td>65000000</td>\n      <td>262797249.0</td>\n    </tr>\n    <tr>\n      <th>2</th>\n      <td>0</td>\n      <td>NaN</td>\n    </tr>\n    <tr>\n      <th>3</th>\n      <td>16000000</td>\n      <td>81452156.0</td>\n    </tr>\n    <tr>\n      <th>4</th>\n      <td>0</td>\n      <td>76578911.0</td>\n    </tr>\n    <tr>\n      <th>...</th>\n      <td>...</td>\n      <td>...</td>\n    </tr>\n    <tr>\n      <th>45461</th>\n      <td>0</td>\n      <td>NaN</td>\n    </tr>\n    <tr>\n      <th>45462</th>\n      <td>0</td>\n      <td>NaN</td>\n    </tr>\n    <tr>\n      <th>45463</th>\n      <td>0</td>\n      <td>NaN</td>\n    </tr>\n    <tr>\n      <th>45464</th>\n      <td>0</td>\n      <td>NaN</td>\n    </tr>\n    <tr>\n      <th>45465</th>\n      <td>0</td>\n      <td>NaN</td>\n    </tr>\n  </tbody>\n</table>\n<p>45466 rows × 2 columns</p>\n</div>"
     },
     "metadata": {},
     "execution_count": 6
    }
   ],
   "source": [
    "data[['budget', 'revenue']]"
   ]
  },
  {
   "cell_type": "code",
   "execution_count": 7,
   "metadata": {},
   "outputs": [
    {
     "output_type": "execute_result",
     "data": {
      "text/plain": [
       "adult                        0\n",
       "belongs_to_collection    40972\n",
       "budget                       0\n",
       "genres                       0\n",
       "homepage                 37684\n",
       "id                           0\n",
       "imdb_id                     17\n",
       "original_language           11\n",
       "original_title               0\n",
       "overview                   954\n",
       "popularity                   5\n",
       "poster_path                386\n",
       "production_companies         3\n",
       "production_countries         3\n",
       "release_date                87\n",
       "revenue                  38058\n",
       "runtime                    263\n",
       "spoken_languages             6\n",
       "status                      87\n",
       "tagline                  25054\n",
       "title                        6\n",
       "video                        6\n",
       "vote_average                 6\n",
       "vote_count                   6\n",
       "dtype: int64"
      ]
     },
     "metadata": {},
     "execution_count": 7
    }
   ],
   "source": [
    "data.isna().sum()"
   ]
  },
  {
   "cell_type": "code",
   "execution_count": 8,
   "metadata": {},
   "outputs": [
    {
     "output_type": "execute_result",
     "data": {
      "text/plain": [
       "(45466, 24)"
      ]
     },
     "metadata": {},
     "execution_count": 8
    }
   ],
   "source": [
    "data.shape"
   ]
  },
  {
   "cell_type": "code",
   "execution_count": 9,
   "metadata": {},
   "outputs": [],
   "source": [
    "data.drop(columns=['belongs_to_collection', 'tagline', 'homepage'], inplace=True)"
   ]
  },
  {
   "cell_type": "code",
   "execution_count": 10,
   "metadata": {},
   "outputs": [],
   "source": [
    "data.drop(columns=['adult'], inplace=True)"
   ]
  },
  {
   "cell_type": "code",
   "execution_count": 11,
   "metadata": {},
   "outputs": [],
   "source": [
    "data.drop (columns=['poster_path', 'id', 'video', 'overview', 'status'], inplace=True)"
   ]
  },
  {
   "cell_type": "code",
   "execution_count": 12,
   "metadata": {},
   "outputs": [
    {
     "output_type": "execute_result",
     "data": {
      "text/plain": [
       "\"[{'id': 28, 'name': 'Action'}, {'id': 12, 'name': 'Adventure'}, {'id': 18, 'name': 'Drama'}, {'id': 10751, 'name': 'Family'}]\""
      ]
     },
     "metadata": {},
     "execution_count": 12
    }
   ],
   "source": [
    "data.genres[7]"
   ]
  },
  {
   "cell_type": "code",
   "execution_count": 13,
   "metadata": {},
   "outputs": [],
   "source": [
    "import ast"
   ]
  },
  {
   "cell_type": "code",
   "execution_count": 14,
   "metadata": {},
   "outputs": [],
   "source": [
    "data['genres'] = data.genres.apply(lambda x : ast.literal_eval(x))"
   ]
  },
  {
   "cell_type": "code",
   "execution_count": 15,
   "metadata": {},
   "outputs": [],
   "source": [
    "def get_genres (genres_list):\n",
    "    genres = []\n",
    "    for item in genres_list:\n",
    "        genres.append(item['name'])\n",
    "    return genres"
   ]
  },
  {
   "cell_type": "code",
   "execution_count": 16,
   "metadata": {},
   "outputs": [],
   "source": [
    "data['genres'] = data.genres.apply (get_genres)"
   ]
  },
  {
   "cell_type": "code",
   "execution_count": 17,
   "metadata": {},
   "outputs": [
    {
     "output_type": "stream",
     "name": "stdout",
     "text": [
      "<class 'pandas.core.frame.DataFrame'>\nRangeIndex: 45466 entries, 0 to 45465\nData columns (total 15 columns):\n #   Column                Non-Null Count  Dtype  \n---  ------                --------------  -----  \n 0   budget                45466 non-null  object \n 1   genres                45466 non-null  object \n 2   imdb_id               45449 non-null  object \n 3   original_language     45455 non-null  object \n 4   original_title        45466 non-null  object \n 5   popularity            45461 non-null  object \n 6   production_companies  45463 non-null  object \n 7   production_countries  45463 non-null  object \n 8   release_date          45379 non-null  object \n 9   revenue               7408 non-null   float64\n 10  runtime               45203 non-null  float64\n 11  spoken_languages      45460 non-null  object \n 12  title                 45460 non-null  object \n 13  vote_average          45460 non-null  float64\n 14  vote_count            45460 non-null  float64\ndtypes: float64(4), object(11)\nmemory usage: 5.2+ MB\n"
     ]
    }
   ],
   "source": [
    "data.info ()"
   ]
  },
  {
   "cell_type": "code",
   "execution_count": 18,
   "metadata": {},
   "outputs": [
    {
     "output_type": "execute_result",
     "data": {
      "text/plain": [
       "tt1180333    3\n",
       "0            3\n",
       "tt1327820    2\n",
       "tt2018086    2\n",
       "tt0111613    2\n",
       "            ..\n",
       "tt0069234    1\n",
       "tt0053651    1\n",
       "tt0107316    1\n",
       "tt1869416    1\n",
       "tt0112459    1\n",
       "Name: imdb_id, Length: 45417, dtype: int64"
      ]
     },
     "metadata": {},
     "execution_count": 18
    }
   ],
   "source": [
    "data.imdb_id.value_counts()"
   ]
  },
  {
   "cell_type": "code",
   "execution_count": 19,
   "metadata": {},
   "outputs": [],
   "source": [
    "data['revenue'] = data.revenue.astype (float, errors='ignore')\n",
    "data['budget'] = data.budget.astype (float, errors='ignore')"
   ]
  },
  {
   "cell_type": "code",
   "execution_count": 20,
   "metadata": {},
   "outputs": [
    {
     "output_type": "execute_result",
     "data": {
      "text/plain": [
       "0        1995-10-30\n",
       "1        1995-12-15\n",
       "2        1995-12-22\n",
       "3        1995-12-22\n",
       "4        1995-02-10\n",
       "            ...    \n",
       "45461           NaN\n",
       "45462    2011-11-17\n",
       "45463    2003-08-01\n",
       "45464    1917-10-21\n",
       "45465    2017-06-09\n",
       "Name: release_date, Length: 45466, dtype: object"
      ]
     },
     "metadata": {},
     "execution_count": 20
    }
   ],
   "source": [
    "data['release_date']"
   ]
  },
  {
   "cell_type": "code",
   "execution_count": 21,
   "metadata": {},
   "outputs": [],
   "source": [
    "# returns timestamp object ...  .date() used to get datetime obj\n",
    "# data['release_date'] = data['release_date'].apply(lambda x : pd.to_datetime(x, format='%Y-%m-%d', errors='ignore'))"
   ]
  },
  {
   "cell_type": "code",
   "execution_count": 22,
   "metadata": {},
   "outputs": [],
   "source": [
    "data.dropna (axis='index', subset = ['release_date'], inplace=True)"
   ]
  },
  {
   "cell_type": "code",
   "execution_count": 24,
   "metadata": {},
   "outputs": [],
   "source": [
    "data.drop(data.loc[data.release_date == '1'].index, inplace=True)\n",
    "data.drop(data.loc[data.release_date == '12'].index, inplace=True)\n",
    "data.drop(data.loc[data.release_date == '22'].index, inplace=True)"
   ]
  },
  {
   "cell_type": "code",
   "execution_count": 25,
   "metadata": {},
   "outputs": [],
   "source": [
    "data['release_date'] = data.release_date.apply (lambda x : pd.datetime.strptime (x, '%Y-%m-%d'))"
   ]
  },
  {
   "cell_type": "code",
   "execution_count": null,
   "metadata": {},
   "outputs": [],
   "source": [
    "# data ['release_year'] = data.release_date.dt.year"
   ]
  },
  {
   "cell_type": "code",
   "execution_count": 26,
   "metadata": {},
   "outputs": [],
   "source": [
    "data.to_csv ('../data/cleanedMovieData.csv')"
   ]
  },
  {
   "cell_type": "code",
   "execution_count": null,
   "metadata": {},
   "outputs": [],
   "source": []
  },
  {
   "cell_type": "code",
   "execution_count": null,
   "metadata": {},
   "outputs": [],
   "source": []
  }
 ]
}